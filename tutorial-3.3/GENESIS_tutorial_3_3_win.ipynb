{
 "cells": [
  {
   "cell_type": "markdown",
   "metadata": {
    "colab_type": "text",
    "id": "view-in-github"
   },
   "source": [
    "<a href=\"https://colab.research.google.com/github/chig/genesis_tutorial_with_python/blob/main/tutorial-3.3/GENESIS_tutorial_3_3.ipynb\" target=\"_parent\"><img src=\"https://colab.research.google.com/assets/colab-badge.svg\" alt=\"Open In Colab\"/></a>"
   ]
  },
  {
   "cell_type": "markdown",
   "metadata": {
    "id": "tiNMEMu7uFrK"
   },
   "source": [
    "**GENESIS Tutorial on Google Colab.**\n",
    "\n",
    "From \"*3.3 MD simulation of Protein G in NaCl solution with the CHARMM force field*\":  https://www.r-ccs.riken.jp/labs/cbrt/tutorials2019/tutorial-3-3/\n",
    "\n",
    "and \"*3.2 MD simulation of alanine-tripeptide in water with the CHARMM force field*\" : https://www.r-ccs.riken.jp/labs/cbrt/tutorials2019/tutorial-3-2/\n",
    "\n",
    "\n",
    "These sites are designed to be downloaded as linked tar balls and executed in your environment.\n",
    "\n",
    "However, in this tutorial, it will be reading and analyzing output files of MD simulations that have been calculated on Fugaku beforehand.\n",
    "\n",
    "**Today's procedure**\n",
    "\n",
    "0.   Preparation : Prepare today's material\n",
    "1.   Setup : Build initial structure of simulation system (almost skipped)\n",
    "2.   Minimization : Minimize energy to remove unstable steric clashes.\n",
    "3.   Equilibrate : Set temperature and pressure\n",
    "4.   Production : Execute MD simulations for investigation\n",
    "5.   Analysis : Analyze trajectories\n",
    "\n",
    "**0. Preparation**\n",
    "\n",
    "Please download material from github. https://github.com/chig/genesis_tutorial_with_python.git"
   ]
  },
  {
   "cell_type": "code",
   "execution_count": null,
   "metadata": {
    "colab": {
     "base_uri": "https://localhost:8080/"
    },
    "id": "qFLjIUBMM4JM",
    "outputId": "bc88bda1-5fe3-4d33-d1c4-70ad14f444df"
   },
   "outputs": [],
   "source": [
    "!git clone https://github.com/chig/genesis_tutorial_with_python.git"
   ]
  },
  {
   "cell_type": "markdown",
   "metadata": {
    "id": "PeuASPcJZ785"
   },
   "source": [
    "Please check if you can download data."
   ]
  },
  {
   "cell_type": "code",
   "execution_count": null,
   "metadata": {
    "colab": {
     "base_uri": "https://localhost:8080/"
    },
    "id": "yPbQG7olyVxp",
    "outputId": "0a1ef4be-65db-4864-bd8d-023fe0ca16a3"
   },
   "outputs": [],
   "source": [
    "!dir"
   ]
  },
  {
   "cell_type": "markdown",
   "metadata": {
    "id": "wRjaEkEtZlQX"
   },
   "source": [
    "We also use the following python modules\n",
    "1. py3Dmol\n",
    "2. matplotlib"
   ]
  },
  {
   "cell_type": "markdown",
   "metadata": {
    "id": "h4uw75LJQFV3"
   },
   "source": [
    "To see molecules on google colab, py3Dmol (3Dmol) \n",
    "http://3dmol.csb.pitt.edu/ is a good tool.\n",
    "\n",
    "py3Dmol can be installed on our environment via pip."
   ]
  },
  {
   "cell_type": "code",
   "execution_count": null,
   "metadata": {
    "colab": {
     "base_uri": "https://localhost:8080/"
    },
    "id": "bb3kEtO6QT-V",
    "outputId": "924228e8-5a59-432c-e1f8-543b6333589e"
   },
   "outputs": [],
   "source": [
    "!pip install py3Dmol\n",
    "import py3Dmol"
   ]
  },
  {
   "cell_type": "markdown",
   "metadata": {
    "id": "CDrJ3IZ8aNS0"
   },
   "source": [
    "We can just import matplotlib since it is prepared on google colab."
   ]
  },
  {
   "cell_type": "code",
   "execution_count": null,
   "metadata": {
    "id": "RN-OQBNBaXvS"
   },
   "outputs": [],
   "source": [
    "import matplotlib.pyplot as plt"
   ]
  },
  {
   "cell_type": "markdown",
   "metadata": {
    "id": "-U4HvpmYZ9kL"
   },
   "source": [
    "**Tutorial material**"
   ]
  },
  {
   "cell_type": "markdown",
   "metadata": {
    "id": "3pgNCQajaTf1"
   },
   "source": [
    "Inputs and outputs are in tutorial-3.3/"
   ]
  },
  {
   "cell_type": "code",
   "execution_count": null,
   "metadata": {
    "colab": {
     "base_uri": "https://localhost:8080/"
    },
    "id": "w9QJyIzqQNho",
    "outputId": "d3b0c96d-e9da-407d-af6a-2fb51f8b6958"
   },
   "outputs": [],
   "source": [
    "%cd genesis_tutorial_with_python/tutorial-3.3"
   ]
  },
  {
   "cell_type": "markdown",
   "metadata": {
    "id": "MXRT3-FUak9k"
   },
   "source": [
    "You can find 5 directories for steps."
   ]
  },
  {
   "cell_type": "code",
   "execution_count": null,
   "metadata": {
    "colab": {
     "base_uri": "https://localhost:8080/"
    },
    "id": "ghvJLhI0PqcN",
    "outputId": "66ad36d8-e79e-49f2-f8d3-309864097add"
   },
   "outputs": [],
   "source": [
    "!dir"
   ]
  },
  {
   "cell_type": "markdown",
   "metadata": {
    "id": "0RqCEkUkbIOs"
   },
   "source": [
    "**1. Setup**\n",
    "\n",
    "Setup is an improtant procedure, however, it is not today's focus. To find the information, please access the original pages;\n",
    "\n",
    "https://www.r-ccs.riken.jp/labs/cbrt/tutorials2019/tutorial-3-3/#1_Setup\n",
    "\n",
    "https://www.r-ccs.riken.jp/labs/cbrt/tutorials2019/tutorial-2-2/\n",
    "\n",
    "You can see the initial structure using py3Dmol."
   ]
  },
  {
   "cell_type": "code",
   "execution_count": null,
   "metadata": {
    "colab": {
     "base_uri": "https://localhost:8080/",
     "height": 335
    },
    "id": "QiB3VhBIQwH_",
    "outputId": "7420e5a7-feb6-48fe-b7ee-c847045e4b1a"
   },
   "outputs": [],
   "source": [
    "%cd 1_setup/\n",
    "with open(\"5_ionize/ionized.pdb\") as imol:\n",
    "    system = \"\".join([x for x in imol])\n",
    "view = py3Dmol.view(width=400, height=300)\n",
    "view.addModelsAsFrames(system)\n",
    "view.setStyle({'resn' : 'SOD'}, {'sphere': {'color': 'yellow'}})\n",
    "view.setStyle({'resn': 'CLA'}, {'sphere': {'color': 'green'}})\n",
    "view.setStyle({'chain': 'P'},{'cartoon': {'color': 'blue'}})\n",
    "#view.setStyle({'atom': ['OH2', 'H1', 'H2']},{'sphere': {'color': 'white', 'opacity': 0.7}})\n",
    "view.zoomTo()\n",
    "view.show()"
   ]
  },
  {
   "cell_type": "markdown",
   "metadata": {
    "id": "TOtmOe0bbSP0"
   },
   "source": [
    "**2. Minimization**\n",
    "\n",
    "First, we need to execute energy minimization to stabilize the structure."
   ]
  },
  {
   "cell_type": "code",
   "execution_count": null,
   "metadata": {
    "colab": {
     "base_uri": "https://localhost:8080/"
    },
    "id": "ouumKvGXP_61",
    "outputId": "9827b25b-61a0-4912-e5db-62f201befa71"
   },
   "outputs": [],
   "source": [
    "%cd ../2_minimize\n",
    "!dir"
   ]
  },
  {
   "cell_type": "markdown",
   "metadata": {},
   "source": [
    "'INP' is an input control of GENESIS."
   ]
  },
  {
   "cell_type": "code",
   "execution_count": null,
   "metadata": {},
   "outputs": [],
   "source": [
    "!cat INP"
   ]
  },
  {
   "cell_type": "markdown",
   "metadata": {
    "id": "ZVl3YIXIayTS"
   },
   "source": [
    "A python script (get_genesis_log/genesislog.py) is prepared to extract values from a GENESIS log file.  Please import the script."
   ]
  },
  {
   "cell_type": "code",
   "execution_count": null,
   "metadata": {
    "id": "oYPnJTCOD35a"
   },
   "outputs": [],
   "source": [
    "import sys\n",
    "sys.path.append(\"../../get_genesis_log\")\n",
    "import genesislog"
   ]
  },
  {
   "cell_type": "markdown",
   "metadata": {
    "id": "GJ1b-I8Fb0aC"
   },
   "source": [
    "We can confirm the potential energy is decreased during the minimization."
   ]
  },
  {
   "cell_type": "code",
   "execution_count": null,
   "metadata": {
    "colab": {
     "base_uri": "https://localhost:8080/",
     "height": 283
    },
    "id": "VHaBDJoiQXD6",
    "outputId": "f637142f-cdcf-4bb9-b2ef-aee0eb80c103"
   },
   "outputs": [],
   "source": [
    "(x,y)=genesislog.read_genesis(\"log\", \"POTENTIAL_ENE\")\n",
    "fig = plt.figure(figsize=(6,4))\n",
    "ax = fig.add_subplot(111)\n",
    "ax.grid()\n",
    "ax.plot(x,y)\n",
    "ax.set_xlabel(\"Steps\", size=14)\n",
    "ax.set_ylabel(\"Potential Energy (kcal/mol)\",size=14)\n",
    "plt.show()"
   ]
  },
  {
   "cell_type": "markdown",
   "metadata": {
    "id": "ppM0SvrKcJsj"
   },
   "source": [
    "**3. Equilibration**\n",
    "\n",
    "We run three simulations at equilibration step.\n",
    "\n",
    "\n",
    "1.   NVT ensemble with positional restraints on protein heavy atoms\n",
    "2.   NPT ensemble with positional restraints on protein heavy atoms\n",
    "3.   NPT ensemble with positional restraints on protein backbone heavy atoms\n"
   ]
  },
  {
   "cell_type": "code",
   "execution_count": null,
   "metadata": {
    "colab": {
     "base_uri": "https://localhost:8080/"
    },
    "id": "-ygb8VuvQYfX",
    "outputId": "58b21e3c-afb2-4dae-fee3-d4fc93b8bc10"
   },
   "outputs": [],
   "source": [
    "%cd ../3_equilibrate\n",
    "!dir"
   ]
  },
  {
   "cell_type": "markdown",
   "metadata": {
    "id": "iewAERJEmJGK"
   },
   "source": [
    "NVT ensemble with positional restraints on protein heavy atoms"
   ]
  },
  {
   "cell_type": "code",
   "execution_count": null,
   "metadata": {
    "id": "YQKZKYZ1VJip"
   },
   "outputs": [],
   "source": [
    "!type INP1"
   ]
  },
  {
   "cell_type": "code",
   "execution_count": null,
   "metadata": {
    "colab": {
     "base_uri": "https://localhost:8080/",
     "height": 283
    },
    "id": "iy5LdWSlQti4",
    "outputId": "136806e0-f524-4ec3-f721-11e4803935b5"
   },
   "outputs": [],
   "source": [
    "(x,y)=genesislog.read_genesis(\"log1\", \"TEMPERATURE\")\n",
    "fig = plt.figure(figsize=(6,4))\n",
    "ax = fig.add_subplot(111)\n",
    "ax.grid()\n",
    "ax.plot(x,y)\n",
    "ax.set_xlabel(\"Steps\", size=14)\n",
    "ax.set_ylabel(\"Temperature (K)\",size=14)\n",
    "plt.show()"
   ]
  },
  {
   "cell_type": "markdown",
   "metadata": {
    "id": "cdxHeYu7mQnJ"
   },
   "source": [
    "NPT ensemble with positional restraints on protein heavy atoms"
   ]
  },
  {
   "cell_type": "code",
   "execution_count": null,
   "metadata": {
    "id": "CdvMxSA8Qz5m"
   },
   "outputs": [],
   "source": [
    "!type INP2"
   ]
  },
  {
   "cell_type": "code",
   "execution_count": null,
   "metadata": {
    "colab": {
     "base_uri": "https://localhost:8080/",
     "height": 283
    },
    "id": "Gr_ZM6V8RHAo",
    "outputId": "b976b6c9-1f51-4b01-cead-fcde03e4e91d"
   },
   "outputs": [],
   "source": [
    "(x,y)=genesislog.read_genesis(\"log2\", \"BOXX\")\n",
    "fig = plt.figure(figsize=(6,4))\n",
    "ax = fig.add_subplot(111)\n",
    "ax.grid()\n",
    "ax.plot(x,y)\n",
    "ax.set_xlabel(\"Steps\", size=14)\n",
    "ax.set_ylabel(\"BOXX (Angstrom)\",size=14)\n",
    "plt.show()"
   ]
  },
  {
   "cell_type": "markdown",
   "metadata": {
    "id": "qRoMKvpHmXRg"
   },
   "source": [
    "NPT ensemble with positional restraints on protein backbone heavy atoms"
   ]
  },
  {
   "cell_type": "code",
   "execution_count": null,
   "metadata": {
    "id": "ohQokEAURM4V"
   },
   "outputs": [],
   "source": [
    "!type INP3"
   ]
  },
  {
   "cell_type": "code",
   "execution_count": null,
   "metadata": {
    "colab": {
     "base_uri": "https://localhost:8080/",
     "height": 283
    },
    "id": "7GLshIaDRhCG",
    "outputId": "543600c4-95b9-42e1-8757-8cac4e5a2526"
   },
   "outputs": [],
   "source": [
    "(x,y)=genesislog.read_genesis(\"log3\", \"BOXX\")\n",
    "fig = plt.figure(figsize=(6,4))\n",
    "ax = fig.add_subplot(111)\n",
    "ax.grid()\n",
    "ax.plot(x,y)\n",
    "ax.set_xlabel(\"Steps\", size=14)\n",
    "ax.set_ylabel(\"BOXX (Angstrom)\",size=14)\n",
    "plt.show()"
   ]
  },
  {
   "cell_type": "markdown",
   "metadata": {
    "id": "0A-8768hmeep"
   },
   "source": [
    "**4. Production**\n",
    "\n",
    "Since we need to execute very long simulations at the production step, we need to run simulations with different submittions."
   ]
  },
  {
   "cell_type": "code",
   "execution_count": null,
   "metadata": {
    "colab": {
     "base_uri": "https://localhost:8080/"
    },
    "id": "kPNnx98zRjgV",
    "outputId": "208eaa85-41d1-4487-ba48-17aa3114900a"
   },
   "outputs": [],
   "source": [
    "%cd ../4_production/\n",
    "!dir"
   ]
  },
  {
   "cell_type": "code",
   "execution_count": null,
   "metadata": {
    "id": "pdpXYKHhRx3H"
   },
   "outputs": [],
   "source": [
    "!dir INP1"
   ]
  },
  {
   "cell_type": "markdown",
   "metadata": {
    "id": "hLBktwuFm1xP"
   },
   "source": [
    "After the simulations, water molecules can be spread out of the simulation box and protein can be translated and rotated."
   ]
  },
  {
   "cell_type": "code",
   "execution_count": null,
   "metadata": {
    "colab": {
     "base_uri": "https://localhost:8080/",
     "height": 317
    },
    "id": "lautAgLMjdyy",
    "outputId": "9936d206-768b-4d2b-c2ad-dc8d48fb6608"
   },
   "outputs": [],
   "source": [
    "with open(\"production_last.pdb\") as imol:\n",
    "    system = \"\".join([x for x in imol])\n",
    "view = py3Dmol.view(width=400, height=300)\n",
    "view = py3Dmol.view(width=400, height=300)\n",
    "view.addModelsAsFrames(system)\n",
    "view.setStyle({'resn' : 'SOD'}, {'sphere': {'color': 'yellow'}})\n",
    "view.setStyle({'resn': 'CLA'}, {'sphere': {'color': 'green'}})\n",
    "view.setStyle({'chain': 'P'},{'cartoon': {'color': 'blue'}})\n",
    "view.setStyle({'atom': ['OH2', 'H1', 'H2']},{'sphere': {'color': 'white', 'opacity': 0.7}})\n",
    "view.zoomTo()\n",
    "view.show()"
   ]
  },
  {
   "cell_type": "markdown",
   "metadata": {
    "id": "xjTXAK8fnZsP"
   },
   "source": [
    "**5. Analysis**\n",
    "\n",
    "GENESIS prepares tools to analyze trajectory files.\n",
    "1. conversion of trajectories to place water molecules inside the simulation box.\n",
    "2. Extract a protein molecule from the trajectories\n",
    "3. Calculate RMSD"
   ]
  },
  {
   "cell_type": "code",
   "execution_count": null,
   "metadata": {
    "colab": {
     "base_uri": "https://localhost:8080/"
    },
    "id": "HctMHU7CR0JI",
    "outputId": "f12f6a1a-5e2c-4253-e4ba-1551ec6f8e29"
   },
   "outputs": [],
   "source": [
    "%cd ../5_analysis/\n",
    "!dir"
   ]
  },
  {
   "cell_type": "code",
   "execution_count": null,
   "metadata": {
    "colab": {
     "base_uri": "https://localhost:8080/"
    },
    "id": "cbxs_LzFSIDH",
    "outputId": "a26a4f85-fdec-49fa-a5af-7d6ef8b597a7"
   },
   "outputs": [],
   "source": [
    "%cd 1_crd_convert_wrap/\n",
    "!dir"
   ]
  },
  {
   "cell_type": "code",
   "execution_count": null,
   "metadata": {
    "id": "_UaAIXs7STa1"
   },
   "outputs": [],
   "source": [
    "!type INP"
   ]
  },
  {
   "cell_type": "code",
   "execution_count": null,
   "metadata": {
    "colab": {
     "base_uri": "https://localhost:8080/",
     "height": 317
    },
    "id": "PCTRwERceBZ4",
    "outputId": "cc0db8be-2c4e-48be-bd6a-da79fe240cb5"
   },
   "outputs": [],
   "source": [
    "with open(\"production_last_wrap.pdb\") as imol:\n",
    "    system = \"\".join([x for x in imol])\n",
    "view = py3Dmol.view(width=400, height=300)\n",
    "view = py3Dmol.view(width=400, height=300)\n",
    "view.addModelsAsFrames(system)\n",
    "view.setStyle({'resn' : 'SOD'}, {'sphere': {'color': 'yellow'}})\n",
    "view.setStyle({'resn': 'CLA'}, {'sphere': {'color': 'green'}})\n",
    "view.setStyle({'chain': 'P'},{'cartoon': {'color': 'blue'}})\n",
    "view.setStyle({'atom': ['OH2', 'H1', 'H2']},{'sphere': {'color': 'white', 'opacity': 0.7}})\n",
    "view.zoomTo()\n",
    "view.show()"
   ]
  },
  {
   "cell_type": "code",
   "execution_count": null,
   "metadata": {
    "colab": {
     "base_uri": "https://localhost:8080/"
    },
    "id": "Y_4MPknuSVsG",
    "outputId": "b8ea0423-707f-4f2d-edd5-951ebc908ed6"
   },
   "outputs": [],
   "source": [
    "%cd ../2_crd_convert_pro/\n",
    "!dir"
   ]
  },
  {
   "cell_type": "code",
   "execution_count": null,
   "metadata": {
    "id": "QJUexhqGc0Hb"
   },
   "outputs": [],
   "source": [
    "!type INP"
   ]
  },
  {
   "cell_type": "markdown",
   "metadata": {
    "id": "nbp5Id3YQi12"
   },
   "source": [
    "We can see that an protein molecule exists in 'production_last_protein.pdb'"
   ]
  },
  {
   "cell_type": "code",
   "execution_count": null,
   "metadata": {
    "colab": {
     "base_uri": "https://localhost:8080/",
     "height": 317
    },
    "id": "nBQdBA9tQngX",
    "outputId": "3ae2f0a3-8b74-4ac9-a89b-f8bef741313e"
   },
   "outputs": [],
   "source": [
    "with open(\"production_last_protein.pdb\") as imol:\n",
    "    system = \"\".join([x for x in imol])\n",
    "view = py3Dmol.view(width=400, height=300)\n",
    "view = py3Dmol.view(width=400, height=300)\n",
    "view.addModelsAsFrames(system)\n",
    "view.setStyle({'resn' : 'SOD'}, {'sphere': {'color': 'yellow'}})\n",
    "view.setStyle({'resn': 'CLA'}, {'sphere': {'color': 'green'}})\n",
    "view.setStyle({'chain': 'P'},{'cartoon': {'color': 'blue'}})\n",
    "#view.setStyle({'atom': ['OH2', 'H1', 'H2']},{'sphere': {'color': 'white', 'opacity': 0.7}})\n",
    "view.zoomTo()\n",
    "view.show()"
   ]
  },
  {
   "cell_type": "code",
   "execution_count": null,
   "metadata": {
    "colab": {
     "base_uri": "https://localhost:8080/"
    },
    "id": "vSKIsYhcShF3",
    "outputId": "1aacfe94-1315-410f-e43c-c5575ec1e353"
   },
   "outputs": [],
   "source": [
    "%cd ../3_rmsd/\n",
    "!dir"
   ]
  },
  {
   "cell_type": "markdown",
   "metadata": {
    "id": "0GZgpHE9cucB"
   },
   "source": [
    "Since the command will output a file with 1000 lines, you don't need to execute it."
   ]
  },
  {
   "cell_type": "code",
   "execution_count": null,
   "metadata": {
    "id": "M1XV8v3Wc87x",
    "tags": []
   },
   "outputs": [],
   "source": [
    "!type output.rms"
   ]
  },
  {
   "cell_type": "code",
   "execution_count": null,
   "metadata": {
    "colab": {
     "base_uri": "https://localhost:8080/",
     "height": 283
    },
    "id": "QBigqhmhTWBW",
    "outputId": "13999352-5760-407a-8574-82d1cafb2b1a"
   },
   "outputs": [],
   "source": [
    "x=[]\n",
    "y=[]\n",
    "f = open('output.rms','r')\n",
    "for line in f:\n",
    "  data = line[:-1].split()\n",
    "  x.append(float(data[0]))\n",
    "  y.append(float(data[1]))\n",
    "f.close()\n",
    "fig = plt.figure(figsize=(6,4))\n",
    "ax = fig.add_subplot(111)\n",
    "ax.grid()\n",
    "ax.plot(x,y)\n",
    "ax.set_xlabel(\"Frames\", size=14)\n",
    "ax.set_ylabel(\"RMSD (Angstrom)\",size=14)\n",
    "plt.show()"
   ]
  }
 ],
 "metadata": {
  "colab": {
   "authorship_tag": "ABX9TyMiI6Y98IqwcqAA7Wic7+NC",
   "collapsed_sections": [],
   "include_colab_link": true,
   "name": "GENESIS_tutorial_3.3.ipynb",
   "provenance": []
  },
  "kernelspec": {
   "display_name": "Python 3",
   "language": "python",
   "name": "python3"
  },
  "language_info": {
   "codemirror_mode": {
    "name": "ipython",
    "version": 3
   },
   "file_extension": ".py",
   "mimetype": "text/x-python",
   "name": "python",
   "nbconvert_exporter": "python",
   "pygments_lexer": "ipython3",
   "version": "3.9.2"
  }
 },
 "nbformat": 4,
 "nbformat_minor": 4
}

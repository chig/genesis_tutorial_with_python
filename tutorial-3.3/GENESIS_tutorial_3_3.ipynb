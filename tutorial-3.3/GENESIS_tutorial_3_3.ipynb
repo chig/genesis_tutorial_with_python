{
  "nbformat": 4,
  "nbformat_minor": 0,
  "metadata": {
    "colab": {
      "name": "GENESIS_tutorial_3.3.ipynb",
      "provenance": [],
      "collapsed_sections": [],
      "authorship_tag": "ABX9TyPNdIaQjneU+cvpHsxjh0Ai",
      "include_colab_link": true
    },
    "kernelspec": {
      "name": "python3",
      "display_name": "Python 3"
    },
    "language_info": {
      "name": "python"
    }
  },
  "cells": [
    {
      "cell_type": "markdown",
      "metadata": {
        "id": "view-in-github",
        "colab_type": "text"
      },
      "source": [
        "<a href=\"https://colab.research.google.com/github/chig/genesis_tutorial_on_Fugaku/blob/main/tutorial-3.3/GENESIS_tutorial_3_3.ipynb\" target=\"_parent\"><img src=\"https://colab.research.google.com/assets/colab-badge.svg\" alt=\"Open In Colab\"/></a>"
      ]
    },
    {
      "cell_type": "markdown",
      "metadata": {
        "id": "tiNMEMu7uFrK"
      },
      "source": [
        "**GENESIS Tutorial in Google Colab.**\n",
        "\n",
        "From \"*3.3 MD simulation of Protein G in NaCl solution with the CHARMM force field*\":  https://www.r-ccs.riken.jp/labs/cbrt/tutorials2019/tutorial-3-3/\n",
        "\n",
        "and \"*3.2 MD simulation of alanine-tripeptide in water with the CHARMM force field*\" : https://www.r-ccs.riken.jp/labs/cbrt/tutorials2019/tutorial-3-2/\n",
        "\n",
        "\n",
        "These sites are designed to be downloaded as linked tar balls and executed in your environment.\n",
        "\n",
        "However, in this tutorial, it will be reading and analyzing output files of MD simulations that have been calculated on Fugaku beforehand.\n",
        "\n",
        "**Preparation**\n",
        "\n",
        "Please download the following data."
      ]
    },
    {
      "cell_type": "code",
      "metadata": {
        "id": "qFLjIUBMM4JM"
      },
      "source": [
        ""
      ],
      "execution_count": null,
      "outputs": []
    },
    {
      "cell_type": "code",
      "metadata": {
        "id": "yPbQG7olyVxp"
      },
      "source": [
        ""
      ],
      "execution_count": null,
      "outputs": []
    }
  ]
}
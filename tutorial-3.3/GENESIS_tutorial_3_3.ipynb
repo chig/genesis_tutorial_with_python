{
  "nbformat": 4,
  "nbformat_minor": 0,
  "metadata": {
    "colab": {
      "name": "GENESIS_tutorial_3.3.ipynb",
      "provenance": [],
      "collapsed_sections": [],
      "authorship_tag": "ABX9TyPB0svWH0CS4VvCLUPxD5du",
      "include_colab_link": true
    },
    "kernelspec": {
      "name": "python3",
      "display_name": "Python 3"
    },
    "language_info": {
      "name": "python"
    }
  },
  "cells": [
    {
      "cell_type": "markdown",
      "metadata": {
        "id": "view-in-github",
        "colab_type": "text"
      },
      "source": [
        "<a href=\"https://colab.research.google.com/github/chig/genesis_tutorial_with_python/blob/main/tutorial-3.3/GENESIS_tutorial_3_3.ipynb\" target=\"_parent\"><img src=\"https://colab.research.google.com/assets/colab-badge.svg\" alt=\"Open In Colab\"/></a>"
      ]
    },
    {
      "cell_type": "markdown",
      "metadata": {
        "id": "tiNMEMu7uFrK"
      },
      "source": [
        "**GENESIS Tutorial on Google Colab.**\n",
        "\n",
        "From \"*3.3 MD simulation of Protein G in NaCl solution with the CHARMM force field*\":  https://www.r-ccs.riken.jp/labs/cbrt/tutorials2022/tutorial-3-3/\n",
        "\n",
        "and \"*3.2 MD simulation of alanine-tripeptide in water with the CHARMM force field*\" : https://www.r-ccs.riken.jp/labs/cbrt/tutorials2022/tutorial-3-2/\n",
        "\n",
        "\n",
        "These sites are designed to be downloaded as linked tar balls and executed in your environment.\n",
        "\n",
        "However, in this tutorial, it will be reading and analyzing output files of MD simulations that have been calculated on Fugaku beforehand.\n",
        "\n",
        "**Today's procedure**\n",
        "\n",
        "0.   Preparation : Prepare today's material\n",
        "1.   Setup : Build initial structure of simulation system (almost skipped)\n",
        "2.   Minimization : Minimize energy to remove unstable steric clashes.\n",
        "3.   Equilibration : Set temperature and pressure\n",
        "4.   Production : Execute MD simulations for investigation\n",
        "5.   Analysis : Analyze trajectories\n",
        "\n",
        "**0. Preparation**\n",
        "\n",
        "Please download material from github. https://github.com/chig/genesis_tutorial_with_python.git"
      ]
    },
    {
      "cell_type": "code",
      "metadata": {
        "id": "qFLjIUBMM4JM"
      },
      "source": [
        "!git clone https://github.com/chig/genesis_tutorial_with_python.git"
      ],
      "execution_count": null,
      "outputs": []
    },
    {
      "cell_type": "markdown",
      "metadata": {
        "id": "PeuASPcJZ785"
      },
      "source": [
        "Please check if you can download data."
      ]
    },
    {
      "cell_type": "code",
      "metadata": {
        "id": "yPbQG7olyVxp"
      },
      "source": [
        "!ls"
      ],
      "execution_count": null,
      "outputs": []
    },
    {
      "cell_type": "markdown",
      "metadata": {
        "id": "wRjaEkEtZlQX"
      },
      "source": [
        "We also use the following python modules\n",
        "1. py3Dmol\n",
        "2. matplotlib"
      ]
    },
    {
      "cell_type": "markdown",
      "metadata": {
        "id": "h4uw75LJQFV3"
      },
      "source": [
        "To see molecules on google colab, py3Dmol (3Dmol) \n",
        "http://3dmol.csb.pitt.edu/ is a good tool.\n",
        "\n",
        "py3Dmol can be installed on our environment via pip."
      ]
    },
    {
      "cell_type": "code",
      "metadata": {
        "id": "bb3kEtO6QT-V"
      },
      "source": [
        "!pip install py3Dmol\n",
        "import py3Dmol"
      ],
      "execution_count": null,
      "outputs": []
    },
    {
      "cell_type": "markdown",
      "metadata": {
        "id": "CDrJ3IZ8aNS0"
      },
      "source": [
        "We can just import matplotlib since it is prepared on google colab."
      ]
    },
    {
      "cell_type": "code",
      "metadata": {
        "id": "RN-OQBNBaXvS"
      },
      "source": [
        "import matplotlib.pyplot as plt"
      ],
      "execution_count": null,
      "outputs": []
    },
    {
      "cell_type": "markdown",
      "metadata": {
        "id": "-U4HvpmYZ9kL"
      },
      "source": [
        "**Tutorial material**"
      ]
    },
    {
      "cell_type": "code",
      "metadata": {
        "id": "w9QJyIzqQNho"
      },
      "source": [
        "%cd genesis_tutorial_with_python/tutorial-3.3"
      ],
      "execution_count": null,
      "outputs": []
    },
    {
      "cell_type": "markdown",
      "metadata": {
        "id": "MXRT3-FUak9k"
      },
      "source": [
        "You can find 5 directories for steps."
      ]
    },
    {
      "cell_type": "code",
      "metadata": {
        "id": "ghvJLhI0PqcN"
      },
      "source": [
        "!ls"
      ],
      "execution_count": null,
      "outputs": []
    },
    {
      "cell_type": "markdown",
      "metadata": {
        "id": "0RqCEkUkbIOs"
      },
      "source": [
        "**1. Setup**\n",
        "\n",
        "Setup is an improtant procedure, however, it is not today's focus.\n",
        "To find the information, please access the original pages;\n",
        "\n",
        "https://www.r-ccs.riken.jp/labs/cbrt/tutorials2022/tutorial-3-3/#1_Setup\n",
        "\n",
        "https://www.r-ccs.riken.jp/labs/cbrt/tutorials2022/tutorial-2-2/\n",
        "\n",
        "You can see the initial structure using py3Dmol."
      ]
    },
    {
      "cell_type": "code",
      "metadata": {
        "id": "wKmseE1Wumwx"
      },
      "source": [
        "%cd 1_setup/"
      ],
      "execution_count": null,
      "outputs": []
    },
    {
      "cell_type": "code",
      "metadata": {
        "id": "QiB3VhBIQwH_"
      },
      "source": [
        "with open(\"5_ionize/ionized.pdb\") as imol:\n",
        "    system = \"\".join([x for x in imol])\n",
        "view = py3Dmol.view(width=400, height=300)\n",
        "view.addModelsAsFrames(system)\n",
        "view.setStyle({'resn' : 'SOD'}, {'sphere': {'color': 'yellow'}})\n",
        "view.setStyle({'resn': 'CLA'}, {'sphere': {'color': 'green'}})\n",
        "view.setStyle({'chain': 'P'},{'cartoon': {'color': 'blue'}})\n",
        "view.setStyle({'atom': ['OH2']},{'sphere': {'color': 'white', 'opacity': 0.7}})\n",
        "view.zoomTo()\n",
        "view.show()"
      ],
      "execution_count": null,
      "outputs": []
    },
    {
      "cell_type": "markdown",
      "metadata": {
        "id": "TOtmOe0bbSP0"
      },
      "source": [
        "**2. Minimization**\n",
        "\n",
        "First, we need to execute energy minimization to stabilize the structure."
      ]
    },
    {
      "cell_type": "code",
      "metadata": {
        "id": "ouumKvGXP_61"
      },
      "source": [
        "%cd ../2_minimize\n",
        "!ls"
      ],
      "execution_count": null,
      "outputs": []
    },
    {
      "cell_type": "markdown",
      "metadata": {
        "id": "NT_CVNTCx6H7"
      },
      "source": [
        "'INP' is an input control of GENESIS."
      ]
    },
    {
      "cell_type": "code",
      "metadata": {
        "id": "kHHM-x1lyF5_"
      },
      "source": [
        "!cat INP"
      ],
      "execution_count": null,
      "outputs": []
    },
    {
      "cell_type": "markdown",
      "metadata": {
        "id": "ZVl3YIXIayTS"
      },
      "source": [
        "A python script (get_genesis_log/genesislog.py) is prepared to extract values from a GENESIS log file.  Please import the script."
      ]
    },
    {
      "cell_type": "code",
      "metadata": {
        "id": "oYPnJTCOD35a"
      },
      "source": [
        "import sys\n",
        "sys.path.append(\"../../get_genesis_log\")\n",
        "import genesislog"
      ],
      "execution_count": null,
      "outputs": []
    },
    {
      "cell_type": "markdown",
      "metadata": {
        "id": "GJ1b-I8Fb0aC"
      },
      "source": [
        "We can confirm the potential energy is decreased during the minimization."
      ]
    },
    {
      "cell_type": "code",
      "metadata": {
        "id": "VHaBDJoiQXD6"
      },
      "source": [
        "(x,y)=genesislog.read_genesis(\"log\", \"POTENTIAL_ENE\")\n",
        "fig = plt.figure(figsize=(6,4))\n",
        "ax = fig.add_subplot(111)\n",
        "ax.grid()\n",
        "ax.plot(x,y)\n",
        "ax.set_xlabel(\"Steps\", size=14)\n",
        "ax.set_ylabel(\"Potential Energy (kcal/mol)\",size=14)\n",
        "plt.show()"
      ],
      "execution_count": null,
      "outputs": []
    },
    {
      "cell_type": "markdown",
      "metadata": {
        "id": "ppM0SvrKcJsj"
      },
      "source": [
        "**3. Equilibration**\n",
        "\n",
        "We run three simulations at equilibration step.\n",
        "\n",
        "\n",
        "1.   NVT ensemble with positional restraints on protein heavy atoms\n",
        "2.   NPT ensemble with positional restraints on protein heavy atoms\n",
        "3.   NPT ensemble with positional restraints on protein backbone heavy atoms\n"
      ]
    },
    {
      "cell_type": "code",
      "metadata": {
        "id": "-ygb8VuvQYfX"
      },
      "source": [
        "%cd ../3_equilibrate\n",
        "!ls"
      ],
      "execution_count": null,
      "outputs": []
    },
    {
      "cell_type": "markdown",
      "metadata": {
        "id": "iewAERJEmJGK"
      },
      "source": [
        "NVT ensemble with positional restraints on protein heavy atoms"
      ]
    },
    {
      "cell_type": "code",
      "metadata": {
        "id": "YQKZKYZ1VJip"
      },
      "source": [
        "!cat INP1"
      ],
      "execution_count": null,
      "outputs": []
    },
    {
      "cell_type": "code",
      "metadata": {
        "id": "iy5LdWSlQti4"
      },
      "source": [
        "(x,y)=genesislog.read_genesis(\"log1\", \"TEMPERATURE\")\n",
        "fig = plt.figure(figsize=(6,4))\n",
        "ax = fig.add_subplot(111)\n",
        "ax.grid()\n",
        "ax.plot(x,y)\n",
        "ax.set_xlabel(\"Steps\", size=14)\n",
        "ax.set_ylabel(\"Temperature (K)\",size=14)\n",
        "plt.show()"
      ],
      "execution_count": null,
      "outputs": []
    },
    {
      "cell_type": "markdown",
      "metadata": {
        "id": "cdxHeYu7mQnJ"
      },
      "source": [
        "NPT ensemble with positional restraints on protein heavy atoms"
      ]
    },
    {
      "cell_type": "code",
      "metadata": {
        "id": "CdvMxSA8Qz5m"
      },
      "source": [
        "!cat INP2"
      ],
      "execution_count": null,
      "outputs": []
    },
    {
      "cell_type": "code",
      "metadata": {
        "id": "Gr_ZM6V8RHAo"
      },
      "source": [
        "(x,y)=genesislog.read_genesis(\"log2\", \"BOXX\")\n",
        "fig = plt.figure(figsize=(6,4))\n",
        "ax = fig.add_subplot(111)\n",
        "ax.grid()\n",
        "ax.plot(x,y)\n",
        "ax.set_xlabel(\"Steps\", size=14)\n",
        "ax.set_ylabel(\"BOXX (Angstrom)\",size=14)\n",
        "plt.show()"
      ],
      "execution_count": null,
      "outputs": []
    },
    {
      "cell_type": "markdown",
      "metadata": {
        "id": "qRoMKvpHmXRg"
      },
      "source": [
        "NPT ensemble with positional restraints on protein backbone heavy atoms"
      ]
    },
    {
      "cell_type": "code",
      "metadata": {
        "id": "ohQokEAURM4V"
      },
      "source": [
        "!cat INP3"
      ],
      "execution_count": null,
      "outputs": []
    },
    {
      "cell_type": "code",
      "metadata": {
        "id": "7GLshIaDRhCG"
      },
      "source": [
        "(x,y)=genesislog.read_genesis(\"log3\", \"BOXX\")\n",
        "fig = plt.figure(figsize=(6,4))\n",
        "ax = fig.add_subplot(111)\n",
        "ax.grid()\n",
        "ax.plot(x,y)\n",
        "ax.set_xlabel(\"Steps\", size=14)\n",
        "ax.set_ylabel(\"BOXX (Angstrom)\",size=14)\n",
        "plt.show()"
      ],
      "execution_count": null,
      "outputs": []
    },
    {
      "cell_type": "markdown",
      "metadata": {
        "id": "0A-8768hmeep"
      },
      "source": [
        "**4. Production**\n",
        "\n",
        "Since we need to execute very long simulations at the production step, we need to run simulations with different submissions."
      ]
    },
    {
      "cell_type": "code",
      "metadata": {
        "id": "kPNnx98zRjgV"
      },
      "source": [
        "%cd ../4_production/\n",
        "!ls"
      ],
      "execution_count": null,
      "outputs": []
    },
    {
      "cell_type": "code",
      "metadata": {
        "id": "pdpXYKHhRx3H"
      },
      "source": [
        "!cat INP1"
      ],
      "execution_count": null,
      "outputs": []
    },
    {
      "cell_type": "markdown",
      "metadata": {
        "id": "hLBktwuFm1xP"
      },
      "source": [
        "After the simulations, water molecules can be spread out of the simulation box and protein can be translated and rotated."
      ]
    },
    {
      "cell_type": "code",
      "metadata": {
        "id": "lautAgLMjdyy"
      },
      "source": [
        "with open(\"production_last.pdb\") as imol:\n",
        "    system = \"\".join([x for x in imol])\n",
        "view = py3Dmol.view(width=400, height=300)\n",
        "view = py3Dmol.view(width=400, height=300)\n",
        "view.addModelsAsFrames(system)\n",
        "view.setStyle({'resn' : 'SOD'}, {'sphere': {'color': 'yellow'}})\n",
        "view.setStyle({'resn': 'CLA'}, {'sphere': {'color': 'green'}})\n",
        "view.setStyle({'chain': 'P'},{'cartoon': {'color': 'blue'}})\n",
        "#view.setStyle({'atom': ['OH2', 'H1', 'H2']},{'sphere': {'color': 'white', 'opacity': 0.7}})\n",
        "view.zoomTo()\n",
        "view.show()"
      ],
      "execution_count": null,
      "outputs": []
    },
    {
      "cell_type": "markdown",
      "metadata": {
        "id": "xjTXAK8fnZsP"
      },
      "source": [
        "**5. Analysis**\n",
        "\n",
        "GENESIS prepares tools to analyze trajectory files.\n",
        "1. Convert trajectories to place water molecules inside the simulation box.\n",
        "2. Extract a protein molecule from the trajectories\n",
        "3. Calculate RMSD"
      ]
    },
    {
      "cell_type": "code",
      "metadata": {
        "id": "HctMHU7CR0JI"
      },
      "source": [
        "%cd ../5_analysis/\n",
        "!ls"
      ],
      "execution_count": null,
      "outputs": []
    },
    {
      "cell_type": "code",
      "metadata": {
        "id": "cbxs_LzFSIDH"
      },
      "source": [
        "%cd 1_crd_convert_wrap/\n",
        "!ls"
      ],
      "execution_count": null,
      "outputs": []
    },
    {
      "cell_type": "code",
      "metadata": {
        "id": "_UaAIXs7STa1"
      },
      "source": [
        "!cat INP"
      ],
      "execution_count": null,
      "outputs": []
    },
    {
      "cell_type": "code",
      "metadata": {
        "id": "PCTRwERceBZ4"
      },
      "source": [
        "with open(\"production_last_wrap.pdb\") as imol:\n",
        "    system = \"\".join([x for x in imol])\n",
        "view = py3Dmol.view(width=400, height=300)\n",
        "view = py3Dmol.view(width=400, height=300)\n",
        "view.addModelsAsFrames(system)\n",
        "view.setStyle({'resn' : 'SOD'}, {'sphere': {'color': 'yellow'}})\n",
        "view.setStyle({'resn': 'CLA'}, {'sphere': {'color': 'green'}})\n",
        "view.setStyle({'chain': 'P'},{'cartoon': {'color': 'blue'}})\n",
        "#view.setStyle({'atom': ['OH2', 'H1', 'H2']},{'sphere': {'color': 'white', 'opacity': 0.7}})\n",
        "view.zoomTo()\n",
        "view.show()"
      ],
      "execution_count": null,
      "outputs": []
    },
    {
      "cell_type": "code",
      "metadata": {
        "id": "Y_4MPknuSVsG"
      },
      "source": [
        "%cd ../2_crd_convert_pro/\n",
        "!ls"
      ],
      "execution_count": null,
      "outputs": []
    },
    {
      "cell_type": "code",
      "metadata": {
        "id": "QJUexhqGc0Hb"
      },
      "source": [
        "!cat INP"
      ],
      "execution_count": null,
      "outputs": []
    },
    {
      "cell_type": "markdown",
      "metadata": {
        "id": "nbp5Id3YQi12"
      },
      "source": [
        "We can see that a protein molecule exists in 'production_last_protein.pdb'"
      ]
    },
    {
      "cell_type": "code",
      "metadata": {
        "id": "nBQdBA9tQngX"
      },
      "source": [
        "with open(\"production_last_protein.pdb\") as imol:\n",
        "    system = \"\".join([x for x in imol])\n",
        "view = py3Dmol.view(width=400, height=300)\n",
        "view = py3Dmol.view(width=400, height=300)\n",
        "view.addModelsAsFrames(system)\n",
        "view.setStyle({'resn' : 'SOD'}, {'sphere': {'color': 'yellow'}})\n",
        "view.setStyle({'resn': 'CLA'}, {'sphere': {'color': 'green'}})\n",
        "view.setStyle({'chain': 'P'},{'cartoon': {'color': 'blue'}})\n",
        "#view.setStyle({'atom': ['OH2', 'H1', 'H2']},{'sphere': {'color': 'white', 'opacity': 0.7}})\n",
        "view.zoomTo()\n",
        "view.show()"
      ],
      "execution_count": null,
      "outputs": []
    },
    {
      "cell_type": "code",
      "metadata": {
        "id": "vSKIsYhcShF3"
      },
      "source": [
        "%cd ../3_rmsd/\n",
        "!ls"
      ],
      "execution_count": null,
      "outputs": []
    },
    {
      "cell_type": "code",
      "metadata": {
        "id": "0GZgpHE9cucB"
      },
      "source": [
        "!cat INP"
      ],
      "execution_count": null,
      "outputs": []
    },
    {
      "cell_type": "code",
      "metadata": {
        "id": "M1XV8v3Wc87x"
      },
      "source": [
        "!head -20 output.rms"
      ],
      "execution_count": null,
      "outputs": []
    },
    {
      "cell_type": "code",
      "metadata": {
        "id": "QBigqhmhTWBW"
      },
      "source": [
        "x=[]\n",
        "y=[]\n",
        "f = open('output.rms','r')\n",
        "for line in f:\n",
        "  data = line[:-1].split()\n",
        "  x.append(float(data[0]))\n",
        "  y.append(float(data[1]))\n",
        "f.close()\n",
        "fig = plt.figure(figsize=(6,4))\n",
        "ax = fig.add_subplot(111)\n",
        "ax.grid()\n",
        "ax.plot(x,y)\n",
        "ax.set_xlabel(\"Frames\", size=14)\n",
        "ax.set_ylabel(\"RMSD (Angstrom)\",size=14)\n",
        "plt.show()"
      ],
      "execution_count": null,
      "outputs": []
    }
  ]
}
